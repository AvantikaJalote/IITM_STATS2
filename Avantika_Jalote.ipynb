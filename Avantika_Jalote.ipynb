{
  "nbformat": 4,
  "nbformat_minor": 0,
  "metadata": {
    "colab": {
      "name": "Avantika_Jalote.ipynb",
      "provenance": [],
      "collapsed_sections": [],
      "include_colab_link": true
    },
    "kernelspec": {
      "name": "python3",
      "display_name": "Python 3"
    }
  },
  "cells": [
    {
      "cell_type": "markdown",
      "metadata": {
        "id": "view-in-github",
        "colab_type": "text"
      },
      "source": [
        "<a href=\"https://colab.research.google.com/github/AvantikaJalote/IITM_STATS2/blob/main/Avantika_Jalote.ipynb\" target=\"_parent\"><img src=\"https://colab.research.google.com/assets/colab-badge.svg\" alt=\"Open In Colab\"/></a>"
      ]
    },
    {
      "cell_type": "markdown",
      "metadata": {
        "id": "DFVYyoMKKj7i"
      },
      "source": [
        "# Probability in Python"
      ]
    },
    {
      "cell_type": "markdown",
      "metadata": {
        "id": "yQnPw68Ono8S"
      },
      "source": [
        "# Importing packages\n",
        "\n",
        "You can ignore this part for now."
      ]
    },
    {
      "cell_type": "code",
      "metadata": {
        "id": "pV7_0aGuiytb"
      },
      "source": [
        "import numpy as np\n",
        "import requests\n",
        "import io"
      ],
      "execution_count": 1,
      "outputs": []
    },
    {
      "cell_type": "markdown",
      "metadata": {
        "id": "8t26cBgqYdR0"
      },
      "source": [
        "# Import statistics module\n",
        "We will use scipy.stats, which has several functions for statistics and probability distributions. "
      ]
    },
    {
      "cell_type": "code",
      "metadata": {
        "id": "cfuXiM6_YopX"
      },
      "source": [
        "import scipy.stats as st"
      ],
      "execution_count": 2,
      "outputs": []
    },
    {
      "cell_type": "markdown",
      "metadata": {
        "id": "oixdxHiLXEbG"
      },
      "source": [
        "# Import pandas, matplotlib"
      ]
    },
    {
      "cell_type": "code",
      "metadata": {
        "id": "253oJrrPXJbG"
      },
      "source": [
        "import pandas as pd\n",
        "import matplotlib.pyplot as plt"
      ],
      "execution_count": 3,
      "outputs": []
    },
    {
      "cell_type": "markdown",
      "metadata": {
        "id": "_Fva8lrNdOjr"
      },
      "source": [
        "# Fitting a distribution and estimating parameters\n",
        "The given data are the marks scored by 4500 students,total out of 700 and\n",
        "\n",
        "We will use the pandas module in python to read the excel file. As the excel file had issues in being uploaded I have used request module to import data from my GITHUB profile.\n",
        "\n",
        "The link for the Excel file(data set): **https://drive.google.com/file/d/1l_HACxIby41TDKxJdSiUxRRmjbJb7hc5/view?usp=sharing**"
      ]
    },
    {
      "cell_type": "code",
      "metadata": {
        "colab": {
          "base_uri": "https://localhost:8080/",
          "height": 417
        },
        "id": "Q3nijj-BcZ2c",
        "outputId": "5ec288fa-992a-4aef-a08e-a52126d32bdd"
      },
      "source": [
        "url=\"https://raw.githubusercontent.com/AvantikaJalote/IITM_STATS2/main/Avantika_jalote.csv\"\n",
        "s=requests.get(url).content\n",
        "df=pd.read_csv(io.StringIO(s.decode('utf-8')))\n",
        "df"
      ],
      "execution_count": 4,
      "outputs": [
        {
          "output_type": "execute_result",
          "data": {
            "text/html": [
              "<div>\n",
              "<style scoped>\n",
              "    .dataframe tbody tr th:only-of-type {\n",
              "        vertical-align: middle;\n",
              "    }\n",
              "\n",
              "    .dataframe tbody tr th {\n",
              "        vertical-align: top;\n",
              "    }\n",
              "\n",
              "    .dataframe thead th {\n",
              "        text-align: right;\n",
              "    }\n",
              "</style>\n",
              "<table border=\"1\" class=\"dataframe\">\n",
              "  <thead>\n",
              "    <tr style=\"text-align: right;\">\n",
              "      <th></th>\n",
              "      <th>0</th>\n",
              "    </tr>\n",
              "  </thead>\n",
              "  <tbody>\n",
              "    <tr>\n",
              "      <th>0</th>\n",
              "      <td>619</td>\n",
              "    </tr>\n",
              "    <tr>\n",
              "      <th>1</th>\n",
              "      <td>590</td>\n",
              "    </tr>\n",
              "    <tr>\n",
              "      <th>2</th>\n",
              "      <td>643</td>\n",
              "    </tr>\n",
              "    <tr>\n",
              "      <th>3</th>\n",
              "      <td>546</td>\n",
              "    </tr>\n",
              "    <tr>\n",
              "      <th>4</th>\n",
              "      <td>631</td>\n",
              "    </tr>\n",
              "    <tr>\n",
              "      <th>...</th>\n",
              "      <td>...</td>\n",
              "    </tr>\n",
              "    <tr>\n",
              "      <th>4495</th>\n",
              "      <td>552</td>\n",
              "    </tr>\n",
              "    <tr>\n",
              "      <th>4496</th>\n",
              "      <td>558</td>\n",
              "    </tr>\n",
              "    <tr>\n",
              "      <th>4497</th>\n",
              "      <td>615</td>\n",
              "    </tr>\n",
              "    <tr>\n",
              "      <th>4498</th>\n",
              "      <td>577</td>\n",
              "    </tr>\n",
              "    <tr>\n",
              "      <th>4499</th>\n",
              "      <td>517</td>\n",
              "    </tr>\n",
              "  </tbody>\n",
              "</table>\n",
              "<p>4500 rows × 1 columns</p>\n",
              "</div>"
            ],
            "text/plain": [
              "        0\n",
              "0     619\n",
              "1     590\n",
              "2     643\n",
              "3     546\n",
              "4     631\n",
              "...   ...\n",
              "4495  552\n",
              "4496  558\n",
              "4497  615\n",
              "4498  577\n",
              "4499  517\n",
              "\n",
              "[4500 rows x 1 columns]"
            ]
          },
          "metadata": {
            "tags": []
          },
          "execution_count": 4
        }
      ]
    },
    {
      "cell_type": "markdown",
      "metadata": {
        "id": "OJl42U8sds9o"
      },
      "source": [
        "\n",
        "We see that there are 4500 samples of data. To get a sense of the distribution, we should plot a histogram."
      ]
    },
    {
      "cell_type": "markdown",
      "metadata": {
        "id": "JSEJ6MCGpRUi"
      },
      "source": [
        "##Plotting the Histogram"
      ]
    },
    {
      "cell_type": "code",
      "metadata": {
        "colab": {
          "base_uri": "https://localhost:8080/",
          "height": 366
        },
        "id": "No3OVW3dc4MJ",
        "outputId": "144f35fb-432e-4d03-f645-b8a457b480a4"
      },
      "source": [
        "plt.hist(df['0'],bins=20)"
      ],
      "execution_count": 5,
      "outputs": [
        {
          "output_type": "execute_result",
          "data": {
            "text/plain": [
              "(array([254., 193., 249., 185., 236., 204., 258., 211., 216., 204., 234.,\n",
              "        201., 241., 232., 229., 205., 245., 222., 252., 229.]),\n",
              " array([500. , 507.5, 515. , 522.5, 530. , 537.5, 545. , 552.5, 560. ,\n",
              "        567.5, 575. , 582.5, 590. , 597.5, 605. , 612.5, 620. , 627.5,\n",
              "        635. , 642.5, 650. ]),\n",
              " <a list of 20 Patch objects>)"
            ]
          },
          "metadata": {
            "tags": []
          },
          "execution_count": 5
        },
        {
          "output_type": "display_data",
          "data": {
            "image/png": "[encoded data removed]",
            "text/plain": [
              "<Figure size 432x288 with 1 Axes>"
            ]
          },
          "metadata": {
            "tags": [],
            "needs_background": "light"
          }
        }
      ]
    },
    {
      "cell_type": "markdown",
      "metadata": {
        "id": "JZpmyV0eezlU"
      },
      "source": [
        "# **Fitting** **a** **Uniform** **distribution**\n",
        "From the histogram, the distribution could be modelled as Uniform(**$a$**,**$b$**). The next step is to estimate $a$ and $b$ from the given samples.\n",
        "\n",
        "## **Method** **of** **moments**\n",
        "Suppose $m_1$ and $m_2$ are the first and second moments of the samples. The method of moments estimates are obtained by solving\n",
        "$$m_1=\\frac{a+b}{2},$$\n",
        "$$m_2=\\frac{a^2 +ab + b^2}{3}.$$\n",
        "## **The** **solution** **results** **is**\n",
        "$${a}={m_1-\\sqrt{3(m_2 - m_1^2)}}.$$\n",
        "$${b}={m_1+\\sqrt{3(m_2 - m_1^2)}}.$$\n",
        "\n",
        "\n",
        "\n",
        "> Here $m_1$ is observed to be the $sample$ $mean$ and it can be observed that $\\sqrt{(m_2 - m_1^2)}$ is nothing but the $variance$ of the observations.  \n",
        "\n"
      ]
    },
    {
      "cell_type": "code",
      "metadata": {
        "colab": {
          "base_uri": "https://localhost:8080/"
        },
        "id": "UBtNJU6gjB23",
        "outputId": "992537bb-1a1f-48a5-f33e-f04b19df379d"
      },
      "source": [
        "x = np.array(df['0'])\n",
        "m1 = np.average(x)\n",
        "ss = np.var(x)\n",
        "print(m1)\n",
        "print(ss)\n"
      ],
      "execution_count": 6,
      "outputs": [
        {
          "output_type": "stream",
          "text": [
            "575.3862222222223\n",
            "1909.7237212839507\n"
          ],
          "name": "stdout"
        }
      ]
    },
    {
      "cell_type": "code",
      "metadata": {
        "colab": {
          "base_uri": "https://localhost:8080/"
        },
        "id": "Qdmlr7evlD9R",
        "outputId": "65de6110-e478-4d37-cded-b686be36561c"
      },
      "source": [
        "a = m1 - (1.73*(ss**0.5))\n",
        "b = m1 + (1.73*(ss**0.5))\n",
        "print('The value of \"a\" using methods of moment is: ',a)\n",
        "print('The value of \"b\" using methods of moment is: ',b)"
      ],
      "execution_count": 7,
      "outputs": [
        {
          "output_type": "stream",
          "text": [
            "The value of \"a\" using methods of moment is:  499.7845547443767\n",
            "The value of \"b\" using methods of moment is:  650.9878897000679\n"
          ],
          "name": "stdout"
        }
      ]
    },
    {
      "cell_type": "markdown",
      "metadata": {
        "id": "CDqtb1rbtNoZ"
      },
      "source": [
        "## **Check to see if the distribution used fit's or not.**\n",
        "\n",
        "The data generated was generated using python for a range of **500** to **650** hence the value that we get of the estimators fit and the method of moment satisfies our expression."
      ]
    },
    {
      "cell_type": "markdown",
      "metadata": {
        "id": "USKGGSPkqXuH"
      },
      "source": [
        "# **Bootstrap** **Method**\n",
        "\n",
        "How do we find the bias and variance of the estimator? Theoretical derivations of the sampling distributions may be too cumbersome and difficult in most cases. Bootstrap is a Monte Carlo simulation method for computing metrics such as bias, variance and confidence intervals for estimators.\n",
        "<br></br>\n",
        "In the above example, we have found ${a}=499.78455...$ and ${b}=650.9878....$. Using these values, we simulate $n=4500$ *iid* samples from uniform$(499.7845...,650.9878....)$ and, using the simulated samples, we compute new estimates of $a$ and $b$ and call them $\\hat{a}$ and $\\hat{b}$. Now, repeat the simulation $N$ times to get estimates $\\hat{a}_i$ and $\\hat{b}_i$, $i=1,2,\\ldots,N$.\n",
        "<br></br>\n",
        "The sample variance of $\\{\\hat{a}_1, \\hat{a}_2,\\ldots,\\hat{a}_N\\}$ is taken to be the bootstrap estimate for the variance of the estimator."
      ]
    },
    {
      "cell_type": "code",
      "metadata": {
        "id": "NOezpMTR1K3U"
      },
      "source": [
        "N = 1000\n",
        "n = 4500\n",
        "a1 = np.zeros(N)\n",
        "b1 = np.zeros(N)\n",
        "for i in np.arange(N):\n",
        "  xi = st.uniform.rvs(a,b,size=n)\n",
        "  m1i = np.average(xi); ssi = np.var(xi) \n",
        "  a1[i] = m1i - (1.73*(ssi**0.5)) ; b1[i] = m1 + (1.73*(ssi**0.5))"
      ],
      "execution_count": 8,
      "outputs": []
    },
    {
      "cell_type": "markdown",
      "metadata": {
        "id": "C8iJSHwo4xFl"
      },
      "source": [
        "We can see the histograms of the estimates to get an idea of the spread of the values."
      ]
    },
    {
      "cell_type": "code",
      "metadata": {
        "colab": {
          "base_uri": "https://localhost:8080/",
          "height": 366
        },
        "id": "LhBsFxOs5Uco",
        "outputId": "4679273a-28b0-4800-9e31-ab6c32f71a95"
      },
      "source": [
        "ax1 = plt.subplot(121)\n",
        "ax1.hist(a1,density=True)\n",
        "ax2 = plt.subplot(122)\n",
        "ax2.hist(b1,density=True)"
      ],
      "execution_count": 9,
      "outputs": [
        {
          "output_type": "execute_result",
          "data": {
            "text/plain": [
              "(array([0.00704109, 0.025035  , 0.06571688, 0.13769252, 0.1783744 ,\n",
              "        0.16507455, 0.11500455, 0.06728157, 0.01721156, 0.00391172]),\n",
              " array([894.1712725 , 895.44948284, 896.72769319, 898.00590353,\n",
              "        899.28411387, 900.56232421, 901.84053456, 903.1187449 ,\n",
              "        904.39695524, 905.67516558, 906.95337593]),\n",
              " <a list of 10 Patch objects>)"
            ]
          },
          "metadata": {
            "tags": []
          },
          "execution_count": 9
        },
        {
          "output_type": "display_data",
          "data": {
            "image/png": "[encoded data removed]",
            "text/plain": [
              "<Figure size 432x288 with 2 Axes>"
            ]
          },
          "metadata": {
            "tags": [],
            "needs_background": "light"
          }
        }
      ]
    },
    {
      "cell_type": "markdown",
      "metadata": {
        "id": "hr_MYGs02xiP"
      },
      "source": [
        "Notice how the histograms look roughly normal.\n",
        "<br></br>\n",
        "The sample standard deviations of the estimates is a bootstrap estimate for the standard error of the estimator."
      ]
    },
    {
      "cell_type": "code",
      "metadata": {
        "colab": {
          "base_uri": "https://localhost:8080/"
        },
        "id": "zePWrNkj2gYb",
        "outputId": "5ea592b6-2910-4843-fc29-2724faa42a4f"
      },
      "source": [
        "print(np.sqrt(np.var(a1)))\n",
        "print(np.sqrt(np.var(b1)))"
      ],
      "execution_count": 10,
      "outputs": [
        {
          "output_type": "stream",
          "text": [
            "3.437205915542687\n",
            "2.134459582264779\n"
          ],
          "name": "stdout"
        }
      ]
    },
    {
      "cell_type": "markdown",
      "metadata": {
        "id": "eMyCTvb-7I-r"
      },
      "source": [
        "# **Confidence** **intervals**\n",
        "Suppose a parameter $\\theta$ is estimated as $\\hat{\\theta}$, and suppose the distribution of $\\hat{\\theta}-\\theta$ is known. Then, to obtain $(100(1-\\alpha))$% confidence intervals (typical values are $\\alpha=0.1$ for 90% confidence intervals and $\\alpha=0.05$ for 95% confidence intervals), we use the CDF of $\\hat{\\theta}-\\theta$ to obtain $\\delta_1$ and $\\delta_2$ such that\n",
        "$$P(\\hat{\\theta}-\\theta\\le\\delta_1)=1-\\frac{a}{2},$$\n",
        "$$P(\\hat{\\theta}-\\theta\\le\\delta_2)=\\frac{a}{2}.$$\n",
        "<br></br>\n",
        "Actually, the inverse of the CDF of $\\hat{\\theta}-\\theta$ is used to find the above $\\delta_1$ and $\\delta_2$. From the above, we see that\n",
        "$$P(\\hat{\\theta}-\\theta \\le \\delta_1)-P(\\hat{\\theta}-\\theta \\le \\delta_2)= P(\\delta_2< \\hat{\\theta}-\\theta \\le \\delta_1)=1-\\frac{a}{2}-\\frac{a}{2}=1-a.$$\n",
        "<br></br>\n",
        "The above is rewritten as\n",
        "<br></br>\n",
        "$$P(\\hat{\\theta}-\\delta_1\\le\\theta<\\hat{\\theta}-\\delta_2)=1-a,$$\n",
        "and $[\\hat{\\theta}-\\delta_1,\\hat{\\theta}-\\delta_2]$ is interpreted as the $100(1-a)$% confidence interval.\n",
        "\n",
        "## Bootstrap confidence intervals for **a**\n",
        "The CDF of $\\hat{\\theta}-\\theta$ might be difficult to determine in many cases, and the bootstrap method is used often to estimate $\\delta_1$ and $\\delta_2$. We consider the list of numbers $\\{\\hat{a_1}-499.7845...,\\ldots,\\hat{a}_N-499.7845...\\}$ and pick the $100(a)$-th percentile and $100(1-a)$-th percentile."
      ]
    },
    {
      "cell_type": "code",
      "metadata": {
        "colab": {
          "base_uri": "https://localhost:8080/"
        },
        "id": "_ZbTUlDjggDZ",
        "outputId": "d476d9e8-bde0-4abd-f5e7-f68a3e03b17b"
      },
      "source": [
        "del1 = np.percentile(a1 - a, 97.5)\n",
        "del2 = np.percentile(a1 -a, 2.5)\n",
        "print([del1,del2])"
      ],
      "execution_count": 11,
      "outputs": [
        {
          "output_type": "stream",
          "text": [
            "[6.969925308608008, -6.895839358954571]\n"
          ],
          "name": "stdout"
        }
      ]
    },
    {
      "cell_type": "markdown",
      "metadata": {
        "id": "wPVrUEyxlJxO"
      },
      "source": [
        "The 95% confidence interval for **$a$** using the method of moments estimator works out to $[(499.7845-7.291),(499.7845-(-6.2704))]=[492.4935,506.0549]$.\n",
        "\n",
        "<br>\n",
        "\n",
        "**It can be clearly observed that the confidence interval that we get for  $a$ stands up to the mark and is satisfactory.**\n"
      ]
    },
    {
      "cell_type": "markdown",
      "metadata": {
        "id": "clVwwZT1gbwt"
      },
      "source": [
        "#**Maximum** **likelihood** **method**\n",
        "We now turn to the maximum likelihood estimator for  $a$  and  $b$.\n",
        "\n",
        "\n",
        "First, $a≤min(X1,…,Xn)$ and $b≥max(X1,…,Xn)$\n",
        "<br></br>\n",
        "That is because otherwise we wouldn't be able to have the samples $X_i$ which are less than $a$ or greater than $b$ because the distribution is\n",
        "\n",
        "$$X_i ∼ Unif(a,b)$$\n",
        "\n",
        "and the minimum value $X_i$ can have is a, and the maximum value $X_i$ can have is $b$.\n",
        "\n",
        "The likelihood function is\n",
        "\n",
        "$$L(a,b)=\\prod_{i=1}^nf(x_i;a,b)={\\prod_{i=0}^n \\frac{1}{(b−a)}}=\\frac{1}{(b−a)^n}$$\n",
        "<br></br>\n",
        "Consider the log-likelihood function\n",
        "\n",
        "$$logL(a,b)=log{\\prod_{i=0}^n}f(xi;a,b)=log{\\prod_{i=0}^n}\\frac{1}{(b−a)^n}=log((b−a)−n)=−n⋅log(b−a)$$\n",
        "\n",
        "Note that we are looking for the arguments a and b that maximizes the likelihood (or the log-likelihood)\n",
        "\n",
        "Now, to find $\\hat{a}_{MLE}$ and $\\hat{b}_{MLE}$ take the log-likelihood function derivatives with respect to a and b\n",
        "<br></br>\n",
        "$$\\frac{∂}{∂a}logL(a,b)=\\frac{n}{(b−a)}$$\n",
        "$$\\frac{∂}{∂b}logL(a,b)=\\frac{−n}{(b−a)}$$\n",
        "\n",
        "We can see that the derivative with respect to a is monotonically increasing, So we take the largest a possible which is\n",
        "$$\\hat{a}_{MLE} = min(X1,...,Xn)$$\n",
        "\n",
        "We can also see that the derivative with respect to b is monotonically decreasing, so we take the smallest b possible which is\n",
        "$$\\hat{b}_{MLE} = max(X1,...,Xn)$$\n",
        "<br></br>\n",
        "**The following method can we calculated manually for a uniform distribution as we have already estimated the max and min value of the random variable and with n being know we get that the likewise estimators also have same value as that of the above estimators.**"
      ]
    }
  ]
}